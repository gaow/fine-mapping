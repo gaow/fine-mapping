{
 "cells": [
  {
   "cell_type": "markdown",
   "metadata": {
    "kernel": "SoS"
   },
   "source": [
    "# Fine-mapping workflow using summary statistics\n",
    "\n",
    "Here I implement a workflow that does summary statistics fine-mapping using SuSiE and DAP-G.\n",
    "\n",
    "SuSiE is implemented in [`susieR`](https://github.com/stephenslab/susieR) (please use version 0.6.1+).\n",
    "\n",
    "Since we need to analyze the data with both SuSiE and DAP-G we make input format compatible with DAP-G (SuSiE, implemented in R, is more flexible in input format)."
   ]
  },
  {
   "cell_type": "markdown",
   "metadata": {
    "kernel": "SoS"
   },
   "source": [
    "update SoS and sos-notebook\n",
    "```\n",
    "cd ~/GIT/software/SoS\n",
    "git pull\n",
    "pip install ./\n",
    "```\n",
    "\n",
    "```\n",
    "cd ~/GIT/\n",
    "git clone https://github.com/stephenslab/susieR.git\n",
    "cd susieR/\n",
    "R\n",
    "devtools::install_github(\"stephenslab/susieR\")\n",
    "# devtools::install_github(\"stephenslab/dsc\", subdir = \"dscrutils\", force = TRUE)\n",
    "```\n",
    "\n",
    "```\n",
    "sudo apt-get install libgsl-dev\n",
    "```\n",
    "\n",
    "```\n",
    "cd ~/GIT/exec/\n",
    "mv ../atac-gwas/dap-g ./\n",
    "source .bashrc\n",
    "```"
   ]
  },
  {
   "cell_type": "code",
   "execution_count": 5,
   "metadata": {
    "kernel": "SoS"
   },
   "outputs": [
    {
     "name": "stdout",
     "output_type": "stream",
     "text": [
      "/home/gaow/Documents/GIT/github/fine-mapping"
     ]
    }
   ],
   "source": [
    "%cd ~/GIT/github/fine-mapping"
   ]
  },
  {
   "cell_type": "markdown",
   "metadata": {
    "kernel": "SoS"
   },
   "source": [
    "## The workflow"
   ]
  },
  {
   "cell_type": "code",
   "execution_count": 6,
   "metadata": {
    "kernel": "Bash"
   },
   "outputs": [
    {
     "name": "stdout",
     "output_type": "stream",
     "text": [
      "usage: sos run summary_statistics_finemapping.ipynb\n",
      "               [workflow_name | -t targets] [options] [workflow_options]\n",
      "  workflow_name:        Single or combined workflows defined in this script\n",
      "  targets:              One or more targets to generate\n",
      "  options:              Single-hyphen sos parameters (see \"sos run -h\" for details)\n",
      "  workflow_options:     Double-hyphen workflow-specific parameters\n",
      "\n",
      "Workflows:\n",
      "  susie_bhat\n",
      "  susie_z\n",
      "  dap\n",
      "\n",
      "Global Workflow Options:\n",
      "  --cwd . (as path)\n",
      "                        Current work directory, where output will be written to\n",
      "  --loci . (as path)\n",
      "                        Loci file\n",
      "  --ss-data-prefix . (as path)\n",
      "                        summary statistics file prefix\n",
      "  --anno uniform\n",
      "                        annotation\n",
      "  --prior-file /tmp/file (as path)\n",
      "                        FIXME: need to make it work for with anno\n",
      "  --n 79845 (as int)\n",
      "  --var-y 1 (as int)\n",
      "\n",
      "Sections\n",
      "  susie_bhat_1:         Run SuSiE bhat version\n",
      "    Workflow Options:\n",
      "      --susie-prior-effect 0.1 (as float)\n",
      "                        Set prior effect to 0.0 to estimate from data\n",
      "      --[no-]susie-est-residual (default to True)\n",
      "                        Whether or not to estimate residual variance\n",
      "      --L 5 (as int)\n",
      "                        Set maximum number of effect variables\n",
      "      --[no-]track-fit (default to False)\n",
      "                        Whether or not to keep fit from each iteration, for\n",
      "                        debug purpose.\n",
      "  susie_z_1:            Run SuSiE Z score version\n",
      "    Workflow Options:\n",
      "      --L 5 (as int)\n",
      "                        Set maximum number of effect variables\n",
      "      --[no-]track-fit (default to False)\n",
      "                        Whether or not to keep fit from each iteration, for\n",
      "                        debug purpose.\n",
      "  dap_1:                Run DAP-G\n",
      "    Workflow Options:\n",
      "      --args ''\n",
      "                        Extra arguments to pass to DAP\n",
      "  susie_bhat_2, susie_z_2, dap_2: Summarize Fine-mapping results\n"
     ]
    }
   ],
   "source": [
    "sos run summary_statistics_finemapping.ipynb -h"
   ]
  },
  {
   "cell_type": "code",
   "execution_count": 1,
   "metadata": {
    "kernel": "SoS"
   },
   "outputs": [],
   "source": [
    "[global]\n",
    "# Current work directory, where output will be written to\n",
    "parameter: cwd = path(\".\")\n",
    "# Loci file\n",
    "parameter: loci = path()\n",
    "# summary statistics file prefix\n",
    "parameter: ss_data_prefix = path()\n",
    "# annotation\n",
    "parameter: anno = \"uniform\"\n",
    "# FIXME: need to make it work for with anno\n",
    "parameter: prior_file = path('/tmp/file')\n",
    "parameter: n = 79845 # sample size in GWAS data\n",
    "parameter: var_y = 1\n",
    "\n",
    "fail_if(not loci.is_file(), msg = 'Please specify valid path for --loci')\n",
    "chunks = [x.strip().split() for x in open(f'{loci:a}').readlines() if not x.strip().startswith('#')]\n",
    "\n",
    "def fmtP(x):\n",
    "    return str(x).replace(\".\", \"p\").replace(' ', '_')\n",
    "if not prior_file.exists():\n",
    "    anno = \"uniform\""
   ]
  },
  {
   "cell_type": "markdown",
   "metadata": {
    "kernel": "SoS"
   },
   "source": [
    "### SuSiE $\\hat{b}$ version"
   ]
  },
  {
   "cell_type": "code",
   "execution_count": 2,
   "metadata": {
    "kernel": "SoS"
   },
   "outputs": [],
   "source": [
    "# Run SuSiE bhat version\n",
    "[susie_bhat_1]\n",
    "# Set prior effect to 0.0 to estimate from data\n",
    "parameter: susie_prior_effect = 0.1\n",
    "# Whether or not to estimate residual variance\n",
    "parameter: susie_est_residual = True\n",
    "# Set maximum number of effect variables\n",
    "parameter: L = 5\n",
    "# Whether or not to keep fit from each iteration,\n",
    "# for debug purpose.\n",
    "parameter: track_fit = False\n",
    "#\n",
    "suffix = f'SuSiE_B.L_{L}.prior_{fmtP(susie_prior_effect)}.res_var_{str(susie_est_residual).lower()}'\n",
    "prior_str = f'read.table({prior_file:r})[,2]' if prior_file.exists() else 'NULL'\n",
    "#\n",
    "input: [f'{ss_data_prefix:a}.{x[3] if len(x) == 4 else \"%s_%s_%s\" % (x[0], x[1], x[2])}.summary_stats.txt' for x in chunks], group_by = 1\n",
    "output: f'{_input:n}.{anno}.{suffix}.rds'\n",
    "R: expand = '${ }', stderr = f'{_output:n}.stderr', stdout = f'{_output:n}.stdout'\n",
    "    data = read.table(${_input:ar}, head = T)\n",
    "    prior = ${prior_str}\n",
    "    r = as.matrix(read.table(\"${_input:nn}.LD.txt\"))\n",
    "    bhat = data[,2]\n",
    "    shat = data[,3]\n",
    "    library(susieR)\n",
    "    s = susie_bhat(bhat, shat, r, ${n}, var_y = ${var_y}, r_tol = 5e-3, L = ${L}, min_abs_corr = 0.1,\n",
    "                  ${'estimate_prior_variance=TRUE' if susie_prior_effect == 0 else 'scaled_prior_variance=' + str(susie_prior_effect)},\n",
    "                  ${'estimate_residual_variance=TRUE' if susie_est_residual else 'estimate_residual_variance=FALSE'},\n",
    "                  prior_weights=prior, track_fit=${\"T\" if track_fit else \"F\"})\n",
    "    s$prior = prior\n",
    "    s$z = bhat / shat\n",
    "    s$var_names = data[,1]\n",
    "    if (${susie_prior_effect} == 0 && ${int(susie_est_residual)}) print(paste(c(\"Estimated PVE:\", round(s$V/s$sigma2, 4)), collapse = ' '))\n",
    "    if (${\"T\" if track_fit else \"F\"}) susie_plot_iteration(s, ${L}, ${_input:nr})\n",
    "    saveRDS(s, ${_output:r})"
   ]
  },
  {
   "cell_type": "markdown",
   "metadata": {
    "kernel": "SoS"
   },
   "source": [
    "### SuSiE $z$ version"
   ]
  },
  {
   "cell_type": "code",
   "execution_count": 3,
   "metadata": {
    "kernel": "SoS"
   },
   "outputs": [],
   "source": [
    "# Run SuSiE Z score version\n",
    "[susie_z_1]\n",
    "# Set maximum number of effect variables\n",
    "parameter: L = 5\n",
    "# Whether or not to keep fit from each iteration,\n",
    "# for debug purpose.\n",
    "parameter: track_fit = False\n",
    "#\n",
    "suffix = f'SuSiE_Z.L_{L}'\n",
    "prior_str = f'read.table({prior_file:r})[,2]' if prior_file.exists() else 'NULL'\n",
    "#\n",
    "input: [f'{ss_data_prefix:a}.{x[3] if len(x) == 4 else \"%s_%s_%s\" % (x[0], x[1], x[2])}.summary_stats.txt' for x in chunks], group_by = 1\n",
    "output: f'{_input:n}.{anno}.{suffix}.rds'\n",
    "R: expand = '${ }', stderr = f'{_output:n}.stderr', stdout = f'{_output:n}.stdout'\n",
    "    data = read.table(${_input:ar}, head = T)\n",
    "    prior = ${prior_str}\n",
    "    r = as.matrix(read.table(\"${_input:nn}.LD.txt\"))\n",
    "    if (ncol(data) == 3) {\n",
    "      bhat = data[,2]\n",
    "      shat = data[,3]\n",
    "      p_values = 2 * pt(-abs(bhat / shat), df = ${n} - 2)\n",
    "      z_scores = abs(qnorm(p_values/2)) * sign(bhat)\n",
    "    } else {\n",
    "      z_scores = data[,2]\n",
    "    }\n",
    "        \n",
    "    library(susieR)\n",
    "    s = susie_z(z_scores, r, r_tol = 5e-3, L = ${L}, min_abs_corr = 0.1,\n",
    "                  prior_weights=prior, track_fit=${\"T\" if track_fit else \"F\"})\n",
    "    s$prior = prior\n",
    "    s$z = z_scores\n",
    "    s$var_names = data[,1]\n",
    "    if (${\"T\" if track_fit else \"F\"}) susie_plot_iteration(s, ${L}, ${_input:nr})\n",
    "    saveRDS(s, ${_output:r})"
   ]
  },
  {
   "cell_type": "code",
   "execution_count": 4,
   "metadata": {
    "kernel": "SoS"
   },
   "outputs": [],
   "source": [
    "# Run DAP-G\n",
    "[dap_1]\n",
    "# Extra arguments to pass to DAP\n",
    "parameter: args = ''\n",
    "prefix = f'{out_prefix}.DAP{\".\"+fmtp(args) if len(args) else \"\"}'\n",
    "input: data_file, ld_file\n",
    "output: f'{prefix}.{anno}.pkl'\n",
    "python: expand = '${ }', stderr = f'{_output:n}.stderr'\n",
    "    import sys\n",
    "    import pandas as pd\n",
    "    import numpy as np\n",
    "    import os\n",
    "    import pickle\n",
    "\n",
    "    def run_dap_ss(prefix, data_file, ld_file, n, varY, prior_file = None, args = ''):\n",
    "        cmd = ['dap-g', '-d_est', data_file, '-d_ld', ld_file, '-d_n', n, '-d_syy', varY, '-o', f'{prefix}.result', '-l', f'{prefix}.stderr', '--all', args]\n",
    "        if prior_file is not None and os.path.isfile(prior_file):\n",
    "            cmd.extend(['-p', prior_file])\n",
    "        cmd = ' '.join(map(str,cmd))\n",
    "        sys.stderr.write(cmd + '\\n')\n",
    "        os.system(cmd)\n",
    "\n",
    "    def extract_dap_output(prefix):\n",
    "        out = [x.strip().split() for x in open(f'{prefix}.result').readlines()]\n",
    "        pips = []\n",
    "        clusters = []\n",
    "        still_pip = True\n",
    "        for line in out:\n",
    "            if len(line) == 0:\n",
    "                continue\n",
    "            if len(line) > 2 and line[2] == 'cluster_pip':\n",
    "                still_pip = False\n",
    "                continue\n",
    "            if still_pip and (not line[0].startswith('((')):\n",
    "                continue\n",
    "            if still_pip:\n",
    "                pips.append([line[1], float(line[2]), float(line[3]), int(line[4])])\n",
    "            else:\n",
    "                clusters.append([len(clusters) + 1, float(line[2]), float(line[3])])\n",
    "        pips = pd.DataFrame(pips, columns = ['snp', 'snp_prob', 'snp_log10bf', 'cluster'])\n",
    "        clusters = pd.DataFrame(clusters, columns = ['cluster', 'cluster_prob', 'cluster_avg_r2'])\n",
    "        clusters = pd.merge(clusters, pips.groupby(['cluster'])['snp'].apply(','.join).reset_index(), on = 'cluster')\n",
    "        return {'snp': pips, 'set': clusters}\n",
    "\n",
    "    run_dap_ss(${_output:anr}, ${data_file:ar}, ${ld_file:ar}, ${n}, ${var_y}, ${prior_file:ar}, ${args})\n",
    "    res = extract_dap_output(${_output:anr})\n",
    "    res['var_names'] = np.loadtxt(${data_file:ar}, dtype = str, usecols=0)\n",
    "    ss = np.loadtxt(${data_file:ar}, dtype = float, usecols=(1,2))\n",
    "    res['z'] = ss[:,0]/ss[:,1]\n",
    "    res['prior'] = np.loadtxt(${prior_file:ar}, dtype = float, usecols=1)\n",
    "    pickle.dump(res, open(${_output:ar}, 'wb'))"
   ]
  },
  {
   "cell_type": "markdown",
   "metadata": {
    "kernel": "SoS"
   },
   "source": [
    "### Plot"
   ]
  },
  {
   "cell_type": "code",
   "execution_count": 5,
   "metadata": {
    "kernel": "SoS"
   },
   "outputs": [],
   "source": [
    "# Summarize Fine-mapping results\n",
    "[susie_bhat_2, susie_z_2, dap_2]\n",
    "depends: R_library('dscrutils') # can be installed via `devtools::install_github(\"stephenslab/dsc\",subdir = \"dscrutils\", force = TRUE)`\n",
    "output: f'{_input:n}.pdf'\n",
    "R: expand = '${ }', stderr = f'{_output:n}.log'\n",
    "    s = dscrutils::read_dsc(${_input:r})\n",
    "    # print something to log\n",
    "    write(format(Sys.time(), \"%a %b %d %X %Y\"), stderr())\n",
    "    library(susieR)\n",
    "    is_susie = !is.null(s$elbo)\n",
    "    if (is_susie) {\n",
    "        write(paste('SuSiE objective:', susie_get_objective(s), \"at L =\", nrow(s$alpha)), stderr())\n",
    "    } else {\n",
    "        snp = s$snp\n",
    "        snp = snp[match(s$var_names, snp$snp),]\n",
    "        s$pip = snp$snp_prob\n",
    "        class(s) = 'susie'\n",
    "    }\n",
    "    # make some plots\n",
    "    pdf(${_output:r}, 8,9,pointsize=16)\n",
    "    par(mar=c(2,4,0,0), omi=c(0,0,0,0), oma=c(0,0,0,0),mfrow=c(2,1))\n",
    "    susie_plot(s,y='PIP')\n",
    "    susie_plot(s,y='z')\n",
    "    dev.off()\n",
    "    ordering = order(s$pip, decreasing=T)\n",
    "    if (is.null(s$prior)) s$prior = rep(1/length(ordering),length(ordering))\n",
    "    for (i in 1:5) {\n",
    "        write(paste0(\"#\", i, \" pip-ranked SNP \", s$var_names[ordering[i]], \" has z-score \", \n",
    "              round(s$z[ordering[i]],2), \" pip \", round(s$pip[ordering[i]],4), \" and prior \", round(s$prior[ordering[i]],4)), stderr())\n",
    "    }\n",
    "    ordering = order(abs(s$z), decreasing=T)\n",
    "    for (i in 1:5) {\n",
    "        write(paste0(\"#\", i, \" z-ranked SNP \", s$var_names[ordering[i]], \" has z-score \", \n",
    "              round(s$z[ordering[i]],2), \" pip \", round(s$pip[ordering[i]],4), \" and prior \", round(s$prior[ordering[i]],4)), stderr())\n",
    "    }"
   ]
  },
  {
   "cell_type": "markdown",
   "metadata": {
    "kernel": "SoS"
   },
   "source": [
    "## SuSiE $B$"
   ]
  },
  {
   "cell_type": "code",
   "execution_count": null,
   "metadata": {
    "kernel": "Bash"
   },
   "outputs": [],
   "source": [
    "sos run summary_statistics_finemapping.ipynb susie_bhat \\\n",
    "        --loci /home/gaow/tmp/19-Dec-2018/1KG_EUR/chunks.list \\\n",
    "        --ss-data-prefix /home/gaow/tmp/19-Dec-2018/SCZ/summary_stats/Summary_statistics \\\n",
    "        --susie-prior-effect 0 --anno atac-seq --L 5"
   ]
  },
  {
   "cell_type": "code",
   "execution_count": 4,
   "metadata": {
    "kernel": "SoS"
   },
   "outputs": [
    {
     "data": {
      "text/html": [
       "<div class=\"sos_hint\">%preview /home/gaow/tmp/19-Dec-2018/SCZ/summary_stats/Summary_statistics.chr9_1785000_1790000.summary_stats.uniform.SuSiE_B.L_5.prior_0p0.res_var_true.pdf</div>"
      ]
     },
     "metadata": {},
     "output_type": "display_data"
    },
    {
     "data": {
      "text/html": [
       "<div class=\"sos_hint\">> /home/gaow/tmp/19-Dec-2018/SCZ/summary_stats/Summary_statistics.chr9_1785000_1790000.summary_stats.uniform.SuSiE_B.L_5.prior_0p0.res_var_true.pdf (4.8 KiB):</div>"
      ],
      "text/plain": [
       "\n",
       "> /home/gaow/tmp/19-Dec-2018/SCZ/summary_stats/Summary_statistics.chr9_1785000_1790000.summary_stats.uniform.SuSiE_B.L_5.prior_0p0.res_var_true.pdf (4.8 KiB):"
      ]
     },
     "metadata": {},
     "output_type": "display_data"
    },
    {
     "data": {
      "image/png": "[encoded data removed]"
     },
     "metadata": {},
     "output_type": "display_data"
    }
   ],
   "source": [
    "%preview /home/gaow/tmp/19-Dec-2018/SCZ/summary_stats/Summary_statistics.chr9_1785000_1790000.summary_stats.uniform.SuSiE_B.L_5.prior_0p0.res_var_true.pdf -s png --dpi 50"
   ]
  },
  {
   "cell_type": "markdown",
   "metadata": {
    "kernel": "R"
   },
   "source": [
    "## SuSiE $Z$"
   ]
  }
 ],
 "metadata": {
  "kernelspec": {
   "display_name": "SoS",
   "language": "sos",
   "name": "sos"
  },
  "language_info": {
   "codemirror_mode": "sos",
   "file_extension": ".sos",
   "mimetype": "text/x-sos",
   "name": "sos",
   "nbconvert_exporter": "sos_notebook.converter.SoS_Exporter",
   "pygments_lexer": "sos"
  },
  "sos": {
   "kernels": [
    [
     "Bash",
     "bash",
     "Bash",
     "#E6EEFF"
    ],
    [
     "SoS",
     "sos",
     "",
     ""
    ]
   ],
   "panel": {
    "displayed": false,
    "height": 0,
    "style": "side"
   },
   "version": "0.17.1"
  }
 },
 "nbformat": 4,
 "nbformat_minor": 2
}
