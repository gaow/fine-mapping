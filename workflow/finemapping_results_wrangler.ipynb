{
 "cells": [
  {
   "cell_type": "markdown",
   "metadata": {
    "kernel": "SoS"
   },
   "source": [
    "# Fine-mapping result post processing\n",
    "\n",
    "This pipeline consolidates results from various fine-mapping tools to uniform format, add rsID as necessary, and perform a simple \"liftover\" via rsID (not the formal UCSC `liftOver`) to generate output in HG37 and HG38 builds."
   ]
  },
  {
   "cell_type": "markdown",
   "metadata": {
    "kernel": "SoS"
   },
   "source": [
    "This pipeline was devised by Gao Wang and implemented by Gao Wang and Kushal Dey at Harvard University."
   ]
  },
  {
   "cell_type": "markdown",
   "metadata": {
    "kernel": "SoS"
   },
   "source": [
    "## Input data\n",
    "\n",
    "Input are results of fine-mapping pipeline `summary_statistics_finemapping.ipynb` in R's `RDS` format for SuSiE and CAVIAR, and `pkl` format for DAP.\n",
    "\n",
    "## Output data\n",
    "\n",
    "columns are:\n",
    "\n",
    "```\n",
    "chr pos ref alt snp_id locus_id PIP CS\n",
    "```"
   ]
  },
  {
   "cell_type": "markdown",
   "metadata": {
    "kernel": "SoS"
   },
   "source": [
    "where `snp_id` will be rsID if some annotation files on rsID are provided. Otherwise it will take the format of `chr:pos:ref:alt`.\n",
    "\n",
    "## Additional data processing\n",
    "\n",
    "Here we also provide additional routines to process the data,\n",
    "\n",
    "1. Swap the `snp_id` column using external annotations, for example by rsID.\n",
    "2. Liftover to other builds -- we only support it via rsID matching\n",
    "\n",
    "Notice that only the first 5 columns are necessary for these additional operations. The columns after the fifth can be arbitary and will be kept during the process."
   ]
  },
  {
   "cell_type": "code",
   "execution_count": 1,
   "metadata": {
    "kernel": "SoS"
   },
   "outputs": [
    {
     "name": "stdout",
     "output_type": "stream",
     "text": [
      "/home/gaow/Documents/GIT/github/fine-mapping"
     ]
    }
   ],
   "source": [
    "%cd ~/GIT/github/fine-mapping"
   ]
  },
  {
   "cell_type": "markdown",
   "metadata": {
    "kernel": "SoS"
   },
   "source": [
    "## The workflow"
   ]
  },
  {
   "cell_type": "code",
   "execution_count": 2,
   "metadata": {
    "kernel": "Bash"
   },
   "outputs": [
    {
     "name": "stdout",
     "output_type": "stream",
     "text": [
      "usage: sos run workflow/finemapping_results_wrangler.ipynb\n",
      "               [workflow_name | -t targets] [options] [workflow_options]\n",
      "  workflow_name:        Single or combined workflows defined in this script\n",
      "  targets:              One or more targets to generate\n",
      "  options:              Single-hyphen sos parameters (see \"sos run -h\" for details)\n",
      "  workflow_options:     Double-hyphen workflow-specific parameters\n",
      "\n",
      "Workflows:\n",
      "  default\n",
      "\n",
      "Global Workflow Options:\n",
      "  --ss-data-prefix . (as path)\n",
      "                        summary statistics file prefix which is the path to all\n",
      "                        output files\n",
      "  --pattern 'uniform.SuSiE_B.L_5.prior_0p005.res_var_false'\n",
      "                        identifier for fine-mapping results to be extracted\n",
      "\n",
      "Sections\n",
      "  default_1:\n",
      "    Workflow Options:\n",
      "      --pip-thresh 0.05 (as float)\n",
      "                        Keep PIP above these thresholds\n",
      "      --round-off 6 (as int)\n",
      "                        Round PIP to given digits\n"
     ]
    }
   ],
   "source": [
    "sos run workflow/finemapping_results_wrangler.ipynb -h"
   ]
  },
  {
   "cell_type": "code",
   "execution_count": null,
   "metadata": {
    "kernel": "SoS"
   },
   "outputs": [],
   "source": [
    "[global]\n",
    "# summary statistics file prefix\n",
    "# which is the path to all output files\n",
    "parameter: ss_data_prefix = path()\n",
    "# identifier for fine-mapping results to be extracted\n",
    "parameter: pattern = \"uniform.SuSiE_B.L_5.prior_0p005.res_var_false\"\n",
    "\n",
    "if 'SuSiE' in pattern:\n",
    "    source = 'susie'\n",
    "elif 'CAVIAR' in pattern:\n",
    "    source = 'CAVIAR'\n",
    "elif 'DAP' in pattern:\n",
    "    source = 'DAP'\n",
    "else:\n",
    "    raise ValueError(\"Invalid --pattern specification\")\n"
   ]
  },
  {
   "cell_type": "code",
   "execution_count": null,
   "metadata": {
    "kernel": "SoS"
   },
   "outputs": [],
   "source": [
    "[default_1 (extract results to single file)]\n",
    "depends: R_library('dscrutils') # can be installed via `devtools::install_github(\"stephenslab/dsc\",subdir = \"dscrutils\", force = TRUE)`\n",
    "# Keep PIP above these thresholds\n",
    "parameter: pip_thresh = 0.05\n",
    "# Round PIP to given digits\n",
    "parameter: round_off = 6\n",
    "input: [glob.glob(f'{ss_data_prefix:a}/*/*.{pattern}.{ext}') for ext in ['rds', 'pkl']]\n",
    "output: f\"{ss_data_prefix:a}.{pattern}.gz\"\n",
    "fail_if(len(_input) == 0, msg = f'Cannot find valid input files by pattern {ss_data_prefix:a}/*/*.{pattern}.[rds,pkl]')\n",
    "R: expand = \"${ }\", workdir = ss_data_prefix\n",
    "    # Here we define get_*_output functions for different output format\n",
    "    get_susie_output = function(unit, rds_file) {\n",
    "        cs_id = rep(0, length(rds_file$var_names))\n",
    "        num_cs = length(rds_file$sets$cs)\n",
    "        for(id in 1:num_cs){\n",
    "            cs_id[rds_file$sets$cs[[id]]] = id\n",
    "        }\n",
    "        cbind.data.frame(rep(unit, length(rds_file$var_names)), \n",
    "                              rds_file$var_names, \n",
    "                              rds_file$pip, cs_id)\n",
    "    }\n",
    "    # Data extraction script\n",
    "    library(data.table)\n",
    "    files = c(${paths([x.relative_to(ss_data_prefix) for x in _input]):r,})\n",
    "    processed_dat = c()\n",
    "    for (f in files) {\n",
    "      rds_file = dscrutils::read_dsc(f)\n",
    "      unit = dirname(f)\n",
    "      processed_dat_temp = get_${source}_output(unit, rds_file)\n",
    "      colnames(processed_dat_temp) = c(\"locus_id\", \"variant_id\", \"pip\", \"cs\")\n",
    "      processed_dat = rbind(processed_dat, processed_dat_temp[which(processed_dat_temp[,3] >= ${pip_thresh} | processed_dat_temp[,4] > 0), ])\n",
    "      cat(\"We are at unit\", unit, \"\\n\")\n",
    "    }\n",
    "\n",
    "    extract_chr = sapply(processed_dat[,2], function(x) return(as.numeric(strsplit(as.character(x), \":\")[[1]][1])))\n",
    "    extract_pos = sapply(processed_dat[,2], function(x) return(as.numeric(strsplit(as.character(x), \":\")[[1]][2])))\n",
    "    extract_ref = sapply(processed_dat[,2], function(x) return(as.character(strsplit(as.character(x), \":\")[[1]][3])))\n",
    "    extract_alt = sapply(processed_dat[,2], function(x) return(as.character(strsplit(as.character(x), \":\")[[1]][4])))\n",
    "    variant_id = processed_dat[,2]\n",
    "    locus_id = processed_dat[,1]\n",
    "    pip = round(processed_dat[,3], ${round_off})\n",
    "    cs = processed_dat[,4]\n",
    "    df = data.frame(\"chr\" = extract_chr, \"pos\" = extract_pos, \"ref\" = extract_ref, \"alt\" = extract_alt, \n",
    "                    \"variant_id\" = variant_id, \"locus_id\" = locus_id, \"pip\" = pip, \"cs\" = cs)\n",
    "    df_sorted = df [order(df[,1], df[,2]),]\n",
    "    write.table(df_sorted, gzfile(${_output:r}), sep = \"\\t\", quote=FALSE, row.names=FALSE)"
   ]
  },
  {
   "cell_type": "markdown",
   "metadata": {
    "kernel": "SoS"
   },
   "source": [
    "## Example run"
   ]
  },
  {
   "cell_type": "code",
   "execution_count": null,
   "metadata": {
    "kernel": "Bash"
   },
   "outputs": [],
   "source": [
    "sos run workflow/finemapping_results_wrangler.ipynb \\\n",
    "    --ss-data-prefix ~/tmp/01-Jan-2019 \\\n",
    "    --pattern uniform.SuSiE_B.L_5.prior_0p005.res_var_false"
   ]
  }
 ],
 "metadata": {
  "kernelspec": {
   "display_name": "SoS",
   "language": "sos",
   "name": "sos"
  },
  "language_info": {
   "codemirror_mode": "sos",
   "file_extension": ".sos",
   "mimetype": "text/x-sos",
   "name": "sos",
   "nbconvert_exporter": "sos_notebook.converter.SoS_Exporter",
   "pygments_lexer": "sos"
  },
  "sos": {
   "kernels": [
    [
     "Bash",
     "bash",
     "Bash",
     "#E6EEFF"
    ],
    [
     "SoS",
     "sos",
     "",
     ""
    ]
   ],
   "version": "0.17.1"
  }
 },
 "nbformat": 4,
 "nbformat_minor": 2
}
