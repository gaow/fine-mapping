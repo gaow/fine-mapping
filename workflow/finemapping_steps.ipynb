{
 "cells": [
  {
   "cell_type": "markdown",
   "metadata": {
    "kernel": "SoS"
   },
   "source": [
    "1st\n",
    "```\n",
    "sos run \n",
    "```\n",
    "2nd\n",
    "```\n",
    "sos run workflow/summary_statistics_finemapping.ipynb  susie_bhat  --loci ~/Documents/SuSiE_GWAS/SCZ/SCZ_108snps.tsv  --ss-data-prefix \\ \n",
    "~/Documents/SuSiE_GWAS/SCZ/summary_stats/Summary_statistics  --annotation atac-seq_asca  --n 79845  --susie-pve 0.005  --L 5  -q none  -j 7\n",
    "```\n",
    "3rd\n",
    "```\n",
    "sos run workflow/finemapping_results_wrangler.ipynb  --ss-data-prefix ~/Documents/SuSiE_GWAS/SCZ/summary_stats/Summary_statistics \\\n",
    "--pattern atac-seq_asca.SuSiE_B.L_5.prior_0p005.res_var_false  --id-map-prefix ~/Documents/rsID_map/Hg37/1000G.EUR.QC\n",
    "```"
   ]
  },
  {
   "cell_type": "code",
   "execution_count": null,
   "metadata": {
    "kernel": "SoS"
   },
   "outputs": [],
   "source": []
  }
 ],
 "metadata": {
  "kernelspec": {
   "display_name": "SoS",
   "language": "sos",
   "name": "sos"
  },
  "language_info": {
   "codemirror_mode": "sos",
   "file_extension": ".sos",
   "mimetype": "text/x-sos",
   "name": "sos",
   "nbconvert_exporter": "sos_notebook.converter.SoS_Exporter",
   "pygments_lexer": "sos"
  },
  "sos": {
   "kernels": [
    [
     "SoS",
     "sos",
     "",
     ""
    ]
   ],
   "version": "0.17.5"
  }
 },
 "nbformat": 4,
 "nbformat_minor": 2
}
